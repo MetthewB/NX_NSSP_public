{
 "cells": [
  {
   "cell_type": "code",
   "execution_count": null,
   "metadata": {},
   "outputs": [],
   "source": [
    "import numpy as np\n",
    "import matplotlib.pyplot as plt\n",
    "import seaborn as sns\n",
    "sns.set() #sets the matplotlib style to seaborn style\n",
    "\n",
    "from scipy.io import loadmat \n",
    "from scipy.ndimage import convolve1d\n",
    "from scipy.signal import butter\n",
    "from scipy.signal import sosfiltfilt\n",
    "from scipy.signal import welch\n",
    "import pandas as pd"
   ]
  },
  {
   "cell_type": "markdown",
   "metadata": {},
   "source": [
    "# Part 1 \n",
    "\n",
    "For the first part, we will be working on the preprocessing of a dataset acquired using surface EMG on the forearm of a subject. The task was to perform grasping actions."
   ]
  },
  {
   "cell_type": "code",
   "execution_count": null,
   "metadata": {},
   "outputs": [],
   "source": [
    "fs = 2400 # Sampling frequency (Hz)\n",
    "EMG_file_name='./EMG_short.csv'\n",
    "\n",
    "#load csv\n",
    "EMG_df = pd.read_csv(EMG_file_name)\n",
    "emg = EMG_df.values\n",
    "\n",
    "# EMG.to_csv('EMG_short2.csv', index=False)\n",
    "print(f'what is the shape of the data? {???}')\n",
    "print(f'How many time amples are there? {???}')\n",
    "print(f'How many channels are there? {???}')"
   ]
  },
  {
   "cell_type": "code",
   "execution_count": null,
   "metadata": {},
   "outputs": [],
   "source": [
    "n_channels = ???\n",
    "\n",
    "tsteps = ??? #Time vector for plotting\n",
    "\n",
    "fig, ax = plt.subplots(n_channels, 1, constrained_layout=True, figsize=(15, 15))\n",
    "for i in range(n_channels):\n",
    "    ax[i].plot(tsteps, emg[:, i])\n",
    "    ax[i].set_xlabel(\"Time [s]\")\n",
    "    ax[i].set_ylabel(\"EMG Signal [uV]\")\n"
   ]
  },
  {
   "cell_type": "markdown",
   "metadata": {},
   "source": [
    "As first preprocessing step, we need to apply a bandpass filter. In particular, in this case we use a butterworth filter between 5Hz and 500Hz. The lower bound removes mainly movement artefacts while the upper bound removes high-frequency noise. Also, we have to remember to remove the powergrid noise (50Hz and its harmonics).\n",
    "\n",
    "Look at https://docs.scipy.org/doc/scipy/reference/generated/scipy.signal.sosfiltfilt.html\n"
   ]
  },
  {
   "cell_type": "code",
   "execution_count": null,
   "metadata": {},
   "outputs": [],
   "source": [
    "Wn = (5, 500) \n",
    "sos = butter(N=4, Wn=Wn, fs=fs, btype=\"bandpass\", output=\"sos\") \n",
    "emg_filtered = sosfiltfilt(sos, emg.T).T \n",
    "\n",
    "Wns = ??? #??? removing 50Hz noise and its harmonics\n",
    "\n",
    "for Wn in Wns:\n",
    "    sos = ??? \n",
    "    emg_filtered = ??? \n",
    "\n",
    "fig, ax = plt.subplots(n_channels, 1, constrained_layout=True, figsize=(15, 15))\n",
    "for i in range(n_channels):\n",
    "    ax[i].plot(tsteps, emg_filtered[:, i])\n",
    "    ax[i].set_xlabel(\"Time [s]\")\n",
    "    ax[i].set_ylabel(\"EMG Signal [uV]\")"
   ]
  },
  {
   "cell_type": "markdown",
   "metadata": {},
   "source": [
    "Let's check how the power spectral density changed after filtering."
   ]
  },
  {
   "cell_type": "code",
   "execution_count": null,
   "metadata": {},
   "outputs": [],
   "source": [
    "#Use Welch's method for power spectral density estimation, it reduces the variance of the estimate.\n",
    "freqs_pre, Pxx_pre = ???\n",
    "freqs_post, Pxx_post = ???\n",
    "\n",
    "fig, ax = plt.subplots(1, 2, constrained_layout=True, figsize=(10, 3))\n",
    "ax[0].plot(freqs_pre, Pxx_pre, label=\"raw\")\n",
    "ax[0].plot(freqs_post, Pxx_post, linestyle=\"--\", label=\"filtered\")\n",
    "ax[0].legend()\n",
    "ax[0].set_xlabel(\"Frequency [Hz]\")\n",
    "ax[0].set_ylabel(\"Power\")\n",
    "ax[0].set_title(\"Normal scale for y-axis\")\n",
    "\n",
    "ax[1].semilogy(freqs_pre, Pxx_pre, label=\"raw\")\n",
    "ax[1].semilogy(freqs_post, Pxx_post, linestyle=\"--\", label=\"filtered\")\n",
    "ax[1].legend()\n",
    "ax[1].set_xlabel(\"Frequency [Hz]\")\n",
    "ax[1].set_ylabel(\"Power\")\n",
    "ax[1].set_title(\"Log scale for y-axis\")"
   ]
  },
  {
   "cell_type": "markdown",
   "metadata": {},
   "source": [
    "Now we rectify the signal in order to better quantify the muscular activation."
   ]
  },
  {
   "cell_type": "code",
   "execution_count": null,
   "metadata": {},
   "outputs": [],
   "source": [
    "emg_rectified = ??? # Rectify the signal\n",
    "\n",
    "fig, ax = plt.subplots(n_channels, 1, constrained_layout=True, figsize=(15, 15))\n",
    "for i in range(n_channels):\n",
    "    ax[i].plot(tsteps, emg_rectified[:, i])\n",
    "    ax[i].set_xlabel(\"Time [s]\")\n",
    "    ax[i].set_ylabel(\"EMG Signal [uV]\")\n"
   ]
  },
  {
   "cell_type": "markdown",
   "metadata": {},
   "source": [
    "As a last step, we compute the envelop of the signal by applying a moving average."
   ]
  },
  {
   "cell_type": "code",
   "execution_count": null,
   "metadata": {},
   "outputs": [],
   "source": [
    "mov_mean_size = 400\n",
    "mov_mean_weights = np.ones(mov_mean_size) / mov_mean_size\n",
    "emg_envelopes = ??? # convolve1d the rectified signal with the moving average weights\n",
    "\n",
    "\n",
    "fig, ax = plt.subplots(n_channels, 1, constrained_layout=True, figsize=(15, 15))\n",
    "for i in range(n_channels):\n",
    "    ax[i].plot(tsteps, emg_envelopes[:, i])\n",
    "    ax[i].set_xlabel(\"Time [s]\")\n",
    "    ax[i].set_ylabel(\"EMG Signal [uV]\")\n",
    "plt.suptitle(\"EMG envelopes\")"
   ]
  },
  {
   "cell_type": "markdown",
   "metadata": {},
   "source": [
    "# Part 2\n",
    "\n",
    "The dataset that we will be working with can be obtained from ninapro. After loading the data, we can see that it is a dictionary with different information.  Information about the different columns can be found in https://ninapro.hevs.ch/instructions/DB1.html. In essence, the data was acquired through 10 repetitions of 52 different movements (for this particular dataset, there are only 12). The subjects are asked to repeat movements which were shown as movies on the screen of a laptop. Also, note that these data are already partially preprocessed. \n"
   ]
  },
  {
   "cell_type": "code",
   "execution_count": null,
   "metadata": {},
   "outputs": [],
   "source": [
    "data = loadmat(\"exercise_1__dataset_1.mat\")\n",
    "print(f\"What kind of data structure are we working with? {type(data)}\")\n",
    "print(f\"What are the keys of the data structure? {[i for i in data.keys()]}\")"
   ]
  },
  {
   "cell_type": "markdown",
   "metadata": {},
   "source": [
    "Exploration of the data: For now, lets focus on three of the columns ['emg', 'restimulus', 'rerepetition']. If we print the shape of the array, first dimension of EMG column will correspond to the number of timesteps n_tsteps, while the second dimension are the different channels of electrodes. "
   ]
  },
  {
   "cell_type": "code",
   "execution_count": null,
   "metadata": {},
   "outputs": [],
   "source": [
    "emg = data[\"emg\"]\n",
    "\n",
    "#Restimulus and rerepetition are the stimulus and repetition that have been processed for better correspondance to real movement\n",
    "stimulus = data[\"restimulus\"] #Stimulus is the type of movement that is being performed\n",
    "repetition = data[\"rerepetition\"] #Repetition is the number of times the movement has been repeated\n",
    "\n",
    "print(f'What are the shape of the data that we are working with? EMG: {emg.shape}, Stimulus {stimulus.shape}, Repetition {repetition.shape}')"
   ]
  },
  {
   "cell_type": "markdown",
   "metadata": {},
   "source": [
    "We also see that there are 12 different types of movement.\n"
   ]
  },
  {
   "cell_type": "code",
   "execution_count": null,
   "metadata": {},
   "outputs": [],
   "source": [
    "n_stimuli = len(np.unique(stimulus)) - 1 # -1 because 0 is the resting condition\n",
    "n_repetitions = len(np.unique(repetition)) - 1 # -1 because 0 is not a repetition\n",
    "n_channels = emg.shape[1]\n",
    "\n",
    "print(f'How many types of movement are there? {???}') \n",
    "print(f'How many repetitions are there? {???}') "
   ]
  },
  {
   "cell_type": "markdown",
   "metadata": {},
   "source": [
    "Next, let's look at how many samples (a.k.a timesteps) each trial (one combination of stimulation and repeats) has."
   ]
  },
  {
   "cell_type": "code",
   "execution_count": null,
   "metadata": {},
   "outputs": [],
   "source": [
    "number_of_samples_per_trial = np.zeros((n_stimuli, n_repetitions))\n",
    "\n",
    "for i in range(n_stimuli):\n",
    "    for j in range(n_repetitions):\n",
    "        \n",
    "        idx = np.logical_and(stimulus == i+1, repetition == j+1)\n",
    "        number_of_samples_per_trial[i, j] = np.sum(idx.astype(int))\n",
    "        \n",
    "number_of_samples_per_trial"
   ]
  },
  {
   "cell_type": "markdown",
   "metadata": {},
   "source": [
    "We can see that the number of samples for each trial is different. This is because of the nature of the task they have to perform. The subjects were asked to repeat movements on shown on the screen, however the time taken for each movements might be different, some could be longer than the other. It will not be possible to fit it into a tensor (e.g. vector is a 1-dimensional tensor) directly as the size is not the same throughout. Therefore, we will be using a nested list to contain and access the data in the subsequent analysis. \n",
    "\n",
    "### Window and envelope\n",
    "Now, lets visualize the data. In this example, we will illustrate using data from a single trial (repetition 1 of stimulus 1) we will be using moving average for detecting the envelope."
   ]
  },
  {
   "cell_type": "code",
   "execution_count": null,
   "metadata": {},
   "outputs": [],
   "source": [
    "#defining the length of the moving average window\n",
    "mov_mean_length = 25\n",
    "mov_mean_weights = np.ones(mov_mean_length) / mov_mean_length\n",
    "\n",
    "#initializing the data structure\n",
    "emg_windows = [[None for j in range(n_repetitions)] for i in range(n_stimuli)]\n",
    "emg_rectified = [[None for j in range(n_repetitions)] for i in range(n_stimuli)]\n",
    "emg_envelopes = [[None for j in range(n_repetitions)] for i in range(n_stimuli)]\n",
    "\n",
    "for i in range(n_stimuli):\n",
    "    for j in range(n_repetitions):\n",
    "\n",
    "        idx = np.logical_and(stimulus == i + 1, repetition == j + 1).flatten()\n",
    "        emg_windows[i][j] = emg[idx, :]\n",
    "        emg_rectified[i][j] = ???\n",
    "        emg_envelopes[i][j] = ???\n",
    "\n",
    "fig, ax = plt.subplots(2, 5, figsize=(12, 6), constrained_layout=True)\n",
    "ax = ax.ravel()\n",
    "for i in range(10):\n",
    "    ax[i].plot(emg_windows[0][0][:, i])\n",
    "    ax[i].set_title(f\"Channel {i+1}\")\n",
    "plt.suptitle(\"Windowned EMG signal\")"
   ]
  },
  {
   "cell_type": "code",
   "execution_count": null,
   "metadata": {},
   "outputs": [],
   "source": [
    "fig, ax = plt.subplots(2, 5, figsize=(12, 6), constrained_layout=True)\n",
    "ax = ax.ravel()\n",
    "for i in range(10):\n",
    "    ax[i].plot(emg_rectified[0][0][:, i])\n",
    "    ax[i].set_title(f\"Channel {i+1}\")\n",
    "plt.suptitle(\"Rectified EMG signal\")\n",
    "\n",
    "fig, ax = plt.subplots(2, 5, figsize=(12, 6), constrained_layout=True)\n",
    "ax = ax.ravel()\n",
    "for i in range(10):\n",
    "    ax[i].plot(emg_envelopes[0][0][:, i])\n",
    "    ax[i].set_title(f\"Channel {i+1}\")\n",
    "plt.suptitle(\"Envelopes of the EMG signal\")"
   ]
  },
  {
   "cell_type": "markdown",
   "metadata": {},
   "source": [
    "From the plots, it seems that we already have the envelopes through moving average although high frequency signals might still be present. Moreover, weird looking plots might occur when using moving average (look at channel 5 and 6). Another method that is often used in literature is to use a low pass filter instead of applying the moving average. However, take note that it might produce regions where the enveloped is < 0. Running another round of rectification could introduce non-differentiability. Which could affect the subsequent analysis depending on the pipeline."
   ]
  },
  {
   "cell_type": "code",
   "execution_count": null,
   "metadata": {},
   "outputs": [],
   "source": [
    "fig, ax = plt.subplots(2, 5, figsize=(12, 6), constrained_layout=True, sharex=True, sharey=True)\n",
    "ax = ax.ravel()\n",
    "for i in range(10):\n",
    "    ax[i].plot(emg_windows[0][0][:, i])\n",
    "    ax[i].set_title(f\"Channel {i+1}\")\n",
    "plt.suptitle(\"Rectified EMG signal\")\n",
    "\n",
    "fig, ax = plt.subplots(2, 5, figsize=(12, 6), constrained_layout=True, sharex=True, sharey=True)\n",
    "ax = ax.ravel()\n",
    "for i in range(10):\n",
    "    ax[i].plot(emg_envelopes[0][0][:, i])\n",
    "    ax[i].set_title(f\"Channel {i+1}\")\n",
    "plt.suptitle(\"Envelopes of the EMG signal\")"
   ]
  },
  {
   "cell_type": "markdown",
   "metadata": {},
   "source": [
    "\n",
    "### Visualizing across repetitions\n",
    "\n",
    "Remember that we were only looking at a single trial in the previous section. To check for the robustness of the signal, we will generally need to repeat the stimulus multiple times and look at the trend of the signal quality over time."
   ]
  },
  {
   "cell_type": "code",
   "execution_count": null,
   "metadata": {},
   "outputs": [],
   "source": [
    "emg_average_activations = np.zeros((n_channels, n_stimuli, n_repetitions))\n",
    "for i in range(n_stimuli):\n",
    "    for j in range(n_repetitions):\n",
    "        emg_average_activations[:, i, j] = np.mean(emg_envelopes[i][j], axis=0) #mean across time for each channel"
   ]
  },
  {
   "cell_type": "code",
   "execution_count": null,
   "metadata": {},
   "outputs": [],
   "source": [
    "fig, ax = plt.subplots(4, 3, figsize=(10, 6), constrained_layout=True, sharex=True, sharey=True)\n",
    "ax = ax.ravel()\n",
    "\n",
    "for i in range(n_stimuli):\n",
    "    sns.heatmap(np.squeeze(emg_average_activations[:, i, :]), ax=ax[i] ,xticklabels=False, yticklabels=False, cbar = True)\n",
    "    ax[i].title.set_text(\"Stimulus \" + str(i + 1))\n",
    "    ax[i].set_xlabel(\"Repetition\")\n",
    "    ax[i].set_ylabel(\"EMG channel\")"
   ]
  },
  {
   "cell_type": "markdown",
   "metadata": {},
   "source": [
    "Does the structure seem homogeneous by row? Why?\n",
    "\n",
    "Does the structure seem homogeneous by column? Why?\n",
    "\n",
    "What can we say comparing the EMG recordings for different stimuli?"
   ]
  }
 ],
 "metadata": {
  "kernelspec": {
   "display_name": "goldin_3090",
   "language": "python",
   "name": "python3"
  },
  "language_info": {
   "codemirror_mode": {
    "name": "ipython",
    "version": 3
   },
   "file_extension": ".py",
   "mimetype": "text/x-python",
   "name": "python",
   "nbconvert_exporter": "python",
   "pygments_lexer": "ipython3",
   "version": "3.10.6"
  }
 },
 "nbformat": 4,
 "nbformat_minor": 2
}
