{
 "cells": [
  {
   "cell_type": "code",
   "execution_count": null,
   "metadata": {},
   "outputs": [],
   "source": [
    "import numpy as np\n",
    "import matplotlib.pyplot as plt\n",
    "import seaborn as sns\n",
    "sns.set() #sets the matplotlib style to seaborn style\n",
    "\n",
    "from scipy.io import loadmat \n",
    "from scipy.ndimage import convolve1d\n",
    "from scipy.signal import butter\n",
    "from scipy.signal import sosfiltfilt\n",
    "from scipy.signal import welch\n",
    "import pandas as pd"
   ]
  },
  {
   "cell_type": "markdown",
   "metadata": {},
   "source": [
    "## Exercise 10\n",
    "\n",
    "This exercise is about learning EMG signal preprocessing techniques and analyzing EMG data.\n",
    "\n",
    "There are two parts in this exercise. Part 1 focuses on basic filtering techniques. Part 2 builds upon part 1 and additionally introduces data inspection, which is critically important in reality. \n"
   ]
  },
  {
   "cell_type": "markdown",
   "metadata": {},
   "source": [
    "# Part a \n",
    "\n",
    "In the first part, we will work on the preprocessing of an EMG dataset acquired on the forearm of a subject while performing grasping. \n",
    "\n",
    "First, let's load the recording. Before thinking of any data processing techniques, we should know the data structure/shape and understand its meaning.\n",
    "\n",
    "In this case, the rows (0th dimension) represents the number of data points in time. The columns (or 1st dimension) represents the number of channels in each data point."
   ]
  },
  {
   "cell_type": "markdown",
   "metadata": {},
   "source": [
    "TODO: Load in data (fill in the '???')"
   ]
  },
  {
   "cell_type": "code",
   "execution_count": null,
   "metadata": {},
   "outputs": [],
   "source": [
    "# Sampling frequency (Hz)\n",
    "fs = 2400 \n",
    "\n",
    "# load EMG data\n",
    "EMG_file_name='./EMG_short.npy'\n",
    "emg = np.load(EMG_file_name)\n",
    "\n",
    "data_shape = ???\n",
    "number_timepoints = ???\n",
    "number_channels = ???\n",
    "\n",
    "print(f'The shape of the data is {data_shape}')\n",
    "print(f'There are {number_timepoints} timepoints')\n",
    "print(f'There are {number_channels} channels')"
   ]
  },
  {
   "cell_type": "markdown",
   "metadata": {},
   "source": [
    "TODO: Now let's visualize the signals"
   ]
  },
  {
   "cell_type": "code",
   "execution_count": null,
   "metadata": {},
   "outputs": [],
   "source": [
    "n_channels = ???\n",
    "\n",
    "time_steps = ??? #Time vector for plotting\n",
    "\n",
    "fig, ax = plt.subplots(n_channels, 1, constrained_layout=True, figsize=(15, 15))\n",
    "for channel_idx in range(n_channels):\n",
    "    ax[channel_idx].plot(time_steps, emg[:, channel_idx])\n",
    "    ax[channel_idx].set_xlabel(\"Time [s]\")\n",
    "    ax[channel_idx].set_ylabel(\"EMG Signal [uV]\")\n"
   ]
  },
  {
   "cell_type": "markdown",
   "metadata": {},
   "source": [
    "The EMG data you just saw is very close to raw data, meaning the data likely contain noise from the environment.\n",
    "\n",
    "As first preprocessing step, we need to apply a bandpass filter to isolate the frequency of interest, a.k.a the frequency where EMG signals live in. \n",
    "\n",
    "Here we use a butterworth filter with cutoff frequencies at 5Hz and 500Hz, according to domain knowledge that most EMG signals concentrate in frequencies lower than 500Hz. \n",
    "\n",
    "The lower bound removes mainly movement artefacts while the upper bound removes high-frequency noise. \n",
    "\n",
    "Also, depending on the data acquisition system, the acquired signal might contain noticeable powergrid noise. The powergrid operates at 50Hz in Europe (60Hz in the US and Japan).\n",
    "\n",
    "In the case where the powergrid noise is significant, it is necessary to filter it out using a bandstop filter. Depending on the strength of the powergrid noise, you might need to filter the harmonics of it (the integer multiples of 50Hz +- 2Hz). \n",
    "\n",
    "Look at the documentation for <a href=\"https://docs.scipy.org/doc/scipy/reference/generated/scipy.signal.butter.html\">butter</a> and <a href=\"https://docs.scipy.org/doc/scipy/reference/generated/scipy.signal.sosfiltfilt.html\">sosfiltfilt</a> for more information\n"
   ]
  },
  {
   "cell_type": "markdown",
   "metadata": {},
   "source": [
    "TODO: Denoise filtering"
   ]
  },
  {
   "cell_type": "code",
   "execution_count": null,
   "metadata": {},
   "outputs": [],
   "source": [
    "# apply bandpass filter\n",
    "bandpass_cutoff_frequencies_Hz = (5, 500) \n",
    "sos = butter(N=4, Wn=bandpass_cutoff_frequencies_Hz, fs=fs, btype=\"bandpass\", output=\"sos\") \n",
    "emg_filtered = sosfiltfilt(sos, emg.T).T \n",
    "\n",
    "# remove 50Hz noise and its harmonics\n",
    "powergrid_noise_frequencies_Hz = ??? \n",
    "\n",
    "for noise_frequency in powergrid_noise_frequencies_Hz:\n",
    "    sos = ??? \n",
    "    emg_filtered = ??? \n",
    "\n",
    "fig, ax = plt.subplots(n_channels, 1, constrained_layout=True, figsize=(15, 15))\n",
    "for i in range(n_channels):\n",
    "    ax[i].plot(time_steps, emg_filtered[:, i])\n",
    "    ax[i].set_xlabel(\"Time [s]\")\n",
    "    ax[i].set_ylabel(\"EMG Signal [uV]\")"
   ]
  },
  {
   "cell_type": "markdown",
   "metadata": {},
   "source": [
    "TODO: Let's check how the power spectral density changed after filtering. You can use <a href=\"https://docs.scipy.org/doc/scipy/reference/generated/scipy.signal.welch.html\">welch</a>'s method for power spectral density estimation, it reduces the variance of the estimate.\n",
    "\n"
   ]
  },
  {
   "cell_type": "code",
   "execution_count": null,
   "metadata": {},
   "outputs": [],
   "source": [
    "#Use Welch's method for power spectral density estimation, it reduces the variance of the estimate.\n",
    "freqs_pre, Pxx_pre = ???\n",
    "freqs_post, Pxx_post = ???\n",
    "\n",
    "fig, ax = plt.subplots(1, 2, constrained_layout=True, figsize=(10, 3))\n",
    "ax[0].plot(freqs_pre, Pxx_pre, label=\"raw\")\n",
    "ax[0].plot(freqs_post, Pxx_post, linestyle=\"--\", label=\"filtered\")\n",
    "ax[0].legend()\n",
    "ax[0].set_xlabel(\"Frequency [Hz]\")\n",
    "ax[0].set_ylabel(\"Power Spectral Density (W/Hz)\")\n",
    "ax[0].set_title(\"Power Spectral Density plot\")\n",
    "\n",
    "ax[1].semilogy(freqs_pre, Pxx_pre, label=\"raw\")\n",
    "ax[1].semilogy(freqs_post, Pxx_post, linestyle=\"--\", label=\"filtered\")\n",
    "ax[1].legend()\n",
    "ax[1].set_xlabel(\"Frequency [Hz]\")\n",
    "ax[1].set_ylabel(\"Power Spectral Density (W/Hz)\")\n",
    "ax[1].set_title(\"Power Spectral Density plot in Log scale\")"
   ]
  },
  {
   "cell_type": "markdown",
   "metadata": {},
   "source": [
    "TODO: Now we rectify the signal in order to better quantify the muscular activation."
   ]
  },
  {
   "cell_type": "code",
   "execution_count": null,
   "metadata": {},
   "outputs": [],
   "source": [
    "# Rectify signals\n",
    "emg_rectified = ???\n",
    "\n",
    "fig, ax = plt.subplots(n_channels, 1, constrained_layout=True, figsize=(15, 15))\n",
    "for channel_idx in range(n_channels):\n",
    "    ax[channel_idx].plot(time_steps, emg_rectified[:, channel_idx])\n",
    "    ax[channel_idx].set_xlabel(\"Time [s]\")\n",
    "    ax[channel_idx].set_ylabel(\"EMG Signal [uV]\")\n"
   ]
  },
  {
   "cell_type": "markdown",
   "metadata": {},
   "source": [
    "TODO: As a last step, we compute the envelop of the signal by applying a moving average. You can do so by using <a href=\"https://docs.scipy.org/doc/scipy/reference/generated/scipy.ndimage.convolve1d.html\">convolve1d</a> \n",
    "\n"
   ]
  },
  {
   "cell_type": "code",
   "execution_count": null,
   "metadata": {},
   "outputs": [],
   "source": [
    "mov_mean_size = 400\n",
    "mov_mean_weights = np.ones(mov_mean_size) / mov_mean_size\n",
    "emg_envelopes = ??? # convolve1d the rectified signal with the moving average weights\n",
    "\n",
    "\n",
    "fig, ax = plt.subplots(n_channels, 1, constrained_layout=True, figsize=(15, 15))\n",
    "for channel_idx in range(n_channels):\n",
    "    ax[channel_idx].plot(time_steps, emg_envelopes[:, channel_idx])\n",
    "    ax[channel_idx].set_xlabel(\"Time [s]\")\n",
    "    ax[channel_idx].set_ylabel(\"EMG Signal [uV]\")\n",
    "plt.suptitle(\"EMG envelopes\")"
   ]
  }
 ],
 "metadata": {
  "kernelspec": {
   "display_name": "goldin_3090",
   "language": "python",
   "name": "python3"
  },
  "language_info": {
   "codemirror_mode": {
    "name": "ipython",
    "version": 3
   },
   "file_extension": ".py",
   "mimetype": "text/x-python",
   "name": "python",
   "nbconvert_exporter": "python",
   "pygments_lexer": "ipython3",
   "version": "3.10.6"
  }
 },
 "nbformat": 4,
 "nbformat_minor": 2
}
